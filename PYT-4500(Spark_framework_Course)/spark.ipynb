{
 "cells": [
  {
   "cell_type": "code",
   "execution_count": 1,
   "metadata": {},
   "outputs": [
    {
     "data": {
      "text/plain": [
       "True"
      ]
     },
     "execution_count": 1,
     "metadata": {},
     "output_type": "execute_result"
    }
   ],
   "source": [
    "import pyspark as spark\n",
    "from pyspark.sql import SparkSession\n",
    "from pyspark.sql.functions import col, count, sum, when\n",
    "from pyspark.sql.functions import max as mx\n",
    "import os\n",
    "from dotenv import load_dotenv\n",
    "\n",
    "load_dotenv()"
   ]
  },
  {
   "cell_type": "code",
   "execution_count": 2,
   "metadata": {},
   "outputs": [],
   "source": [
    "postgresql_user = os.getenv('POSTGRES_USER')\n",
    "postgresql_password = os.getenv('POSTGRES_PASSWORD')\n",
    "postgresql_host = os.getenv('POSTGRES_HOST')\n",
    "postgresql_port = os.getenv('POSTGRES_PORT')\n",
    "jdbc_file = os.getenv('JDBC_FILE')\n"
   ]
  },
  {
   "cell_type": "code",
   "execution_count": 3,
   "metadata": {},
   "outputs": [
    {
     "name": "stderr",
     "output_type": "stream",
     "text": [
      "24/03/18 16:38:24 WARN Utils: Your hostname, yura resolves to a loopback address: 127.0.1.1; using 10.202.34.22 instead (on interface wlo1)\n",
      "24/03/18 16:38:24 WARN Utils: Set SPARK_LOCAL_IP if you need to bind to another address\n",
      "24/03/18 16:38:25 WARN NativeCodeLoader: Unable to load native-hadoop library for your platform... using builtin-java classes where applicable\n",
      "Setting default log level to \"WARN\".\n",
      "To adjust logging level use sc.setLogLevel(newLevel). For SparkR, use setLogLevel(newLevel).\n"
     ]
    }
   ],
   "source": [
    "session = SparkSession.builder \\\n",
    "    .config('spark.jars', f\"{jdbc_file}\") \\\n",
    "    .master('local[*]') \\\n",
    "    .appName('pagila-queries') \\\n",
    "    .getOrCreate()"
   ]
  },
  {
   "cell_type": "code",
   "execution_count": 4,
   "metadata": {},
   "outputs": [],
   "source": [
    "data_frame_reader = session.read \\\n",
    "    .format('jdbc') \\\n",
    "    .option('driver', 'org.postgresql.Driver') \\\n",
    "    .option('url', f'jdbc:postgresql://{postgresql_host}:{postgresql_port}/{postgresql_user}') \\\n",
    "    .option('user', postgresql_user) \\\n",
    "    .option('password', postgresql_password)"
   ]
  },
  {
   "cell_type": "code",
   "execution_count": 14,
   "metadata": {},
   "outputs": [],
   "source": [
    "\n",
    "actor: spark.sql.DataFrame = data_frame_reader.option('dbtable', 'actor').load()\n",
    "address: spark.sql.DataFrame = data_frame_reader.option('dbtable', 'address').load()\n",
    "category: spark.sql.DataFrame = data_frame_reader.option('dbtable', 'category').load()\n",
    "city: spark.sql.DataFrame = data_frame_reader.option('dbtable', 'city').load()\n",
    "country: spark.sql.DataFrame = data_frame_reader.option('dbtable', 'country').load()\n",
    "customer: spark.sql.DataFrame = data_frame_reader.option('dbtable', 'customer').load()\n",
    "film: spark.sql.DataFrame = data_frame_reader.option('dbtable', 'film').load()\n",
    "film_actor: spark.sql.DataFrame = data_frame_reader.option('dbtable', 'film_actor').load()\n",
    "film_category: spark.sql.DataFrame = data_frame_reader.option('dbtable', 'film_category').load()\n",
    "inventory: spark.sql.DataFrame = data_frame_reader.option('dbtable', 'inventory').load()\n",
    "rental: spark.sql.DataFrame = data_frame_reader.option('dbtable', 'rental').load()"
   ]
  },
  {
   "cell_type": "markdown",
   "metadata": {},
   "source": [
    "Вывести количество фильмов в каждой категории, отсортировать по убыванию."
   ]
  },
  {
   "cell_type": "code",
   "execution_count": 7,
   "metadata": {},
   "outputs": [
    {
     "name": "stderr",
     "output_type": "stream",
     "text": [
      "                                                                                \r"
     ]
    },
    {
     "name": "stdout",
     "output_type": "stream",
     "text": [
      "+-----------+---------------+\n",
      "|       name|number_of_films|\n",
      "+-----------+---------------+\n",
      "|     Sports|            213|\n",
      "|    Foreign|            211|\n",
      "|     Family|            209|\n",
      "|Documentary|            204|\n",
      "|     Action|            200|\n",
      "|      Drama|            200|\n",
      "|  Animation|            200|\n",
      "|        New|            199|\n",
      "|   Children|            199|\n",
      "|      Games|            199|\n",
      "|     Travel|            198|\n",
      "|   Classics|            198|\n",
      "|     Sci-Fi|            196|\n",
      "|      Music|            194|\n",
      "|     Comedy|            193|\n",
      "|     Horror|            188|\n",
      "+-----------+---------------+\n",
      "\n"
     ]
    }
   ],
   "source": [
    "category\\\n",
    "    .join(film_category, on='category_id', how='left')\\\n",
    "    .groupby('category_id', 'name')\\\n",
    "    .agg(count('film_id').alias('number_of_films'))\\\n",
    "    .select('name', 'number_of_films')\\\n",
    "    .orderBy(col('number_of_films').desc()).show()"
   ]
  },
  {
   "cell_type": "markdown",
   "metadata": {},
   "source": [
    "Вывести 10 актеров, чьи фильмы большего всего арендовали, отсортировать по убыванию."
   ]
  },
  {
   "cell_type": "code",
   "execution_count": 8,
   "metadata": {},
   "outputs": [
    {
     "name": "stdout",
     "output_type": "stream",
     "text": [
      "+--------+----------+-----------+-------------------+\n",
      "|actor_id|first_name|  last_name|sum_rental_duration|\n",
      "+--------+----------+-----------+-------------------+\n",
      "|     107|      GINA|  DEGENERES|                209|\n",
      "|     102|    WALTER|       TORN|                201|\n",
      "|     198|      MARY|     KEITEL|                192|\n",
      "|     181|   MATTHEW|     CARREY|                190|\n",
      "|      65|    ANGELA|     HUDSON|                183|\n",
      "|     106|   GROUCHO|      DUNST|                183|\n",
      "|      23|    SANDRA|     KILMER|                181|\n",
      "|      60|     HENRY|      BERRY|                180|\n",
      "|      13|       UMA|       WOOD|                179|\n",
      "|     119|    WARREN|    JACKMAN|                178|\n",
      "|      50|   NATALIE|    HOPKINS|                174|\n",
      "|     144|    ANGELA|WITHERSPOON|                174|\n",
      "|      37|       VAL|     BOLGER|                173|\n",
      "|      27|     JULIA|    MCQUEEN|                172|\n",
      "|     105|    SIDNEY|      CROWE|                172|\n",
      "|     158|    VIVIEN|   BASINGER|                172|\n",
      "|      66|      MARY|      TANDY|                172|\n",
      "|      90|      SEAN|    GUINESS|                171|\n",
      "|     149|   RUSSELL|     TEMPLE|                171|\n",
      "|      17|     HELEN|     VOIGHT|                169|\n",
      "+--------+----------+-----------+-------------------+\n",
      "only showing top 20 rows\n",
      "\n"
     ]
    }
   ],
   "source": [
    "actor\\\n",
    "    .join(film_actor, on='actor_id')\\\n",
    "    .join(film, on='film_id')\\\n",
    "    .groupby('actor_id', 'first_name', 'last_name')\\\n",
    "    .agg(sum('rental_duration').alias('sum_rental_duration'))\\\n",
    "    .select('actor_id', 'first_name', 'last_name', 'sum_rental_duration')\\\n",
    "    .orderBy(col('sum_rental_duration').desc()).show()"
   ]
  },
  {
   "cell_type": "markdown",
   "metadata": {},
   "source": [
    "Вывести категорию фильмов, на которую потратили больше всего денег."
   ]
  },
  {
   "cell_type": "code",
   "execution_count": 9,
   "metadata": {},
   "outputs": [
    {
     "name": "stdout",
     "output_type": "stream",
     "text": [
      "+-----------+------+--------------------+\n",
      "|category_id|  name|sum_replacement_cost|\n",
      "+-----------+------+--------------------+\n",
      "|          8|Family|             4228.91|\n",
      "+-----------+------+--------------------+\n",
      "\n"
     ]
    }
   ],
   "source": [
    "category\\\n",
    "    .join(film_category, on='category_id')\\\n",
    "    .join(film, on='film_id')\\\n",
    "    .groupby('category_id', 'name')\\\n",
    "    .agg(sum('replacement_cost').alias('sum_replacement_cost'))\\\n",
    "    .orderBy(col('sum_replacement_cost').desc())\\\n",
    "    .limit(1).show()"
   ]
  },
  {
   "cell_type": "markdown",
   "metadata": {},
   "source": [
    "Вывести названия фильмов, которых нет в inventory."
   ]
  },
  {
   "cell_type": "code",
   "execution_count": 10,
   "metadata": {},
   "outputs": [
    {
     "name": "stdout",
     "output_type": "stream",
     "text": [
      "+-------+--------------------+\n",
      "|film_id|               title|\n",
      "+-------+--------------------+\n",
      "|    148|      CHOCOLATE DUCK|\n",
      "|    108|       BUTCH PANTHER|\n",
      "|    950|        VOLUME HOUSE|\n",
      "|    642|      ORDER BETRAYED|\n",
      "|    874|        TADPOLE PARK|\n",
      "|    497|    KILL BROTHERHOOD|\n",
      "|    332|FRANKENSTEIN STRA...|\n",
      "|    192|    CROSSING DIVORCE|\n",
      "|    860|    SUICIDES SILENCE|\n",
      "|    128|       CATCH AMISTAD|\n",
      "|    671|     PERDITION FARGO|\n",
      "|    325|       FLOATS GARDEN|\n",
      "|    386|           GUMP DATE|\n",
      "|    955|        WALLS ARTIST|\n",
      "|    359|  GLADIATOR WESTWARD|\n",
      "|    419|         HOCUS FRIDA|\n",
      "|     41|ARSENIC INDEPENDENCE|\n",
      "|    607|         MUPPET MILE|\n",
      "|    318|   FIREHOUSE VIETNAM|\n",
      "|    742|       ROOF CHAMPION|\n",
      "+-------+--------------------+\n",
      "only showing top 20 rows\n",
      "\n"
     ]
    }
   ],
   "source": [
    "film\\\n",
    "    .join(inventory, on='film_id', how='leftanti')\\\n",
    "    .select('film_id', 'title').show()"
   ]
  },
  {
   "cell_type": "markdown",
   "metadata": {},
   "source": [
    "Вывести топ 3 актеров, которые больше всего появлялись в фильмах в категории “Children”. Если у нескольких актеров одинаковое кол-во фильмов, вывести всех.."
   ]
  },
  {
   "cell_type": "code",
   "execution_count": 11,
   "metadata": {},
   "outputs": [
    {
     "name": "stdout",
     "output_type": "stream",
     "text": [
      "+--------+----------+---------+-----------+\n",
      "|actor_id|first_name|last_name|count_films|\n",
      "+--------+----------+---------+-----------+\n",
      "|     105|    SIDNEY|    CROWE|         12|\n",
      "|      66|      MARY|    TANDY|         12|\n",
      "|      17|     HELEN|   VOIGHT|         12|\n",
      "|     142|      JADA|    RYDER|         12|\n",
      "+--------+----------+---------+-----------+\n",
      "\n"
     ]
    }
   ],
   "source": [
    "act = actor\\\n",
    "    .join(film_actor, on='actor_id')\\\n",
    "    .join(film, on='film_id')\\\n",
    "    .join(film_category, on='film_id')\\\n",
    "    .join(category, on='category_id')\\\n",
    "    .where(col('name') == 'Children')\\\n",
    "    .groupBy('actor_id', 'first_name', 'last_name')\\\n",
    "    .agg(count('film_id').alias('count_films'))\\\n",
    "    .select('actor_id', 'first_name', 'last_name', 'count_films')\n",
    "\n",
    "max_count_films = act.agg(mx(col('count_films'))).collect()[0][0]\n",
    "act.where(col('count_films') == max_count_films).show()"
   ]
  },
  {
   "cell_type": "markdown",
   "metadata": {},
   "source": [
    "Вывести города с количеством активных и неактивных клиентов (активный — customer.active = 1). Отсортировать по количеству неактивных клиентов по убыванию."
   ]
  },
  {
   "cell_type": "code",
   "execution_count": 12,
   "metadata": {},
   "outputs": [
    {
     "name": "stdout",
     "output_type": "stream",
     "text": [
      "+-------+----------------+---------------+-----------------+\n",
      "|city_id|city            |active_customer|unactive_customer|\n",
      "+-------+----------------+---------------+-----------------+\n",
      "|577    |Wroclaw         |0              |1                |\n",
      "|578    |Xiangfan        |0              |1                |\n",
      "|111    |Charlotte Amalie|0              |1                |\n",
      "|259    |Kamyin          |0              |1                |\n",
      "|512    |Szkesfehrvr     |0              |1                |\n",
      "|139    |Daxian          |0              |1                |\n",
      "|283    |Kumbakonam      |0              |1                |\n",
      "|57     |Bat Yam         |0              |1                |\n",
      "|554    |Uluberia        |0              |1                |\n",
      "|495    |Southend-on-Sea |0              |1                |\n",
      "|356    |Najafabad       |0              |1                |\n",
      "|24     |Amroha          |0              |1                |\n",
      "|125    |Coatzacoalcos   |0              |1                |\n",
      "|281    |Ktahya          |0              |1                |\n",
      "|407    |Pingxiang       |0              |1                |\n",
      "|148    |Duisburg        |1              |0                |\n",
      "|463    |Sasebo          |1              |0                |\n",
      "|471    |Shenzhen        |1              |0                |\n",
      "|496    |Southport       |1              |0                |\n",
      "|243    |Jodhpur         |1              |0                |\n",
      "+-------+----------------+---------------+-----------------+\n",
      "only showing top 20 rows\n",
      "\n"
     ]
    }
   ],
   "source": [
    "city\\\n",
    "    .join(address, on='city_id')\\\n",
    "    .join(customer, on='address_id')\\\n",
    "    .groupBy('city_id', 'city')\\\n",
    "    .agg(sum(when(col('active') == 1, 1).otherwise(0)).alias('active_customer'),\n",
    "         sum(when(col('active') == 0, 1).otherwise(0)).alias('unactive_customer'))\\\n",
    "    .orderBy(col('unactive_customer').desc()).show(truncate=False)"
   ]
  },
  {
   "cell_type": "markdown",
   "metadata": {},
   "source": [
    "Вывести категорию фильмов, у которой самое большое кол-во часов суммарной аренды в городах (customer.address_id в этом city), и которые начинаются на букву “a”. Тоже самое сделать для городов в которых есть символ “-”."
   ]
  },
  {
   "cell_type": "code",
   "execution_count": 13,
   "metadata": {},
   "outputs": [
    {
     "name": "stdout",
     "output_type": "stream",
     "text": [
      "+-----------+-----+-------------------+\n",
      "|category_id|name |sum_rental_in_hours|\n",
      "+-----------+-----+-------------------+\n",
      "|10         |Games|1581.8166666666666 |\n",
      "+-----------+-----+-------------------+\n",
      "\n"
     ]
    }
   ],
   "source": [
    "category\\\n",
    "    .join(film_category, on='category_id')\\\n",
    "    .join(film, on='film_id')\\\n",
    "    .join(inventory, on='film_id')\\\n",
    "    .join(rental, on='inventory_id')\\\n",
    "    .join(customer, on='customer_id')\\\n",
    "    .join(address, on='address_id')\\\n",
    "    .join(city, on='city_id')\\\n",
    "    .where((col('city').startswith('A')) & (col('city').contains('-')))\\\n",
    "    .groupBy('name', 'category_id', 'city', 'city_id')\\\n",
    "    .agg(sum((col('return_date').cast('long') - col('rental_date').cast('long')) / 3600).alias('sum_rental_in_hours'))\\\n",
    "    .select('category_id', 'name', 'sum_rental_in_hours')\\\n",
    "    .orderBy(col('sum_rental_in_hours').desc())\\\n",
    "    .limit(1)\\\n",
    "    .show(truncate=False)"
   ]
  }
 ],
 "metadata": {
  "kernelspec": {
   "display_name": "venv",
   "language": "python",
   "name": "python3"
  },
  "language_info": {
   "codemirror_mode": {
    "name": "ipython",
    "version": 3
   },
   "file_extension": ".py",
   "mimetype": "text/x-python",
   "name": "python",
   "nbconvert_exporter": "python",
   "pygments_lexer": "ipython3",
   "version": "3.11.6"
  }
 },
 "nbformat": 4,
 "nbformat_minor": 2
}
